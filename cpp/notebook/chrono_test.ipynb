{
 "cells": [
  {
   "cell_type": "code",
   "execution_count": 1,
   "id": "arbitrary-science",
   "metadata": {},
   "outputs": [],
   "source": [
    "#include <chrono>"
   ]
  },
  {
   "cell_type": "code",
   "execution_count": 2,
   "id": "secondary-compensation",
   "metadata": {},
   "outputs": [],
   "source": [
    "#include <iostream>"
   ]
  },
  {
   "cell_type": "code",
   "execution_count": 3,
   "id": "described-plaintiff",
   "metadata": {},
   "outputs": [],
   "source": [
    "using Clock = std::chrono::high_resolution_clock;"
   ]
  },
  {
   "cell_type": "code",
   "execution_count": 4,
   "id": "hispanic-resort",
   "metadata": {},
   "outputs": [],
   "source": [
    "using SYSTIME = std::chrono::time_point<Clock>;"
   ]
  },
  {
   "cell_type": "code",
   "execution_count": 5,
   "id": "simple-assault",
   "metadata": {},
   "outputs": [],
   "source": [
    "using DURATION = std::chrono::high_resolution_clock::duration;"
   ]
  },
  {
   "cell_type": "code",
   "execution_count": 6,
   "id": "cardiovascular-spring",
   "metadata": {},
   "outputs": [],
   "source": [
    "using namespace std;"
   ]
  },
  {
   "cell_type": "code",
   "execution_count": 7,
   "id": "veterinary-error",
   "metadata": {},
   "outputs": [],
   "source": [
    "DURATION ttl = {};"
   ]
  },
  {
   "cell_type": "code",
   "execution_count": 8,
   "id": "incoming-mexico",
   "metadata": {},
   "outputs": [],
   "source": [
    "SYSTIME tbegin = Clock::now();"
   ]
  },
  {
   "cell_type": "code",
   "execution_count": 9,
   "id": "spatial-intranet",
   "metadata": {},
   "outputs": [],
   "source": [
    "DURATION time_ = Clock::now() - tbegin;"
   ]
  },
  {
   "cell_type": "code",
   "execution_count": 10,
   "id": "searching-horse",
   "metadata": {},
   "outputs": [],
   "source": [
    "auto ms = std::chrono::duration_cast<std::chrono::milliseconds>(time_);"
   ]
  },
  {
   "cell_type": "code",
   "execution_count": 11,
   "id": "corresponding-deputy",
   "metadata": {},
   "outputs": [
    {
     "name": "stdout",
     "output_type": "stream",
     "text": [
      "7"
     ]
    }
   ],
   "source": [
    "cout << ms.count() ;"
   ]
  },
  {
   "cell_type": "code",
   "execution_count": 12,
   "id": "smart-extent",
   "metadata": {},
   "outputs": [],
   "source": [
    "DURATION time2_ = Clock::now() - tbegin;"
   ]
  },
  {
   "cell_type": "code",
   "execution_count": 13,
   "id": "coordinated-george",
   "metadata": {},
   "outputs": [],
   "source": [
    "auto ms2 = std::chrono::duration_cast<std::chrono::milliseconds>(time2_);"
   ]
  },
  {
   "cell_type": "code",
   "execution_count": 14,
   "id": "purple-confidence",
   "metadata": {},
   "outputs": [
    {
     "name": "stdout",
     "output_type": "stream",
     "text": [
      "27"
     ]
    }
   ],
   "source": [
    "cout << ms2.count();"
   ]
  },
  {
   "cell_type": "markdown",
   "id": "signal-plain",
   "metadata": {},
   "source": [
    "## duration 연산"
   ]
  },
  {
   "cell_type": "code",
   "execution_count": 15,
   "id": "divine-bullet",
   "metadata": {},
   "outputs": [],
   "source": [
    "ttl += time_;"
   ]
  },
  {
   "cell_type": "code",
   "execution_count": 16,
   "id": "desperate-commons",
   "metadata": {},
   "outputs": [],
   "source": [
    "ttl += time2_;"
   ]
  },
  {
   "cell_type": "code",
   "execution_count": 17,
   "id": "reverse-supplier",
   "metadata": {},
   "outputs": [],
   "source": [
    "auto ms3 = std::chrono::duration_cast<std::chrono::milliseconds>(ttl);"
   ]
  },
  {
   "cell_type": "code",
   "execution_count": 19,
   "id": "genetic-shame",
   "metadata": {},
   "outputs": [
    {
     "name": "stdout",
     "output_type": "stream",
     "text": [
      "34"
     ]
    }
   ],
   "source": [
    "cout << ms3.count();"
   ]
  },
  {
   "cell_type": "code",
   "execution_count": 20,
   "id": "complicated-implementation",
   "metadata": {},
   "outputs": [
    {
     "name": "stdout",
     "output_type": "stream",
     "text": [
      "17"
     ]
    }
   ],
   "source": [
    "cout << ms3.count() / 2;"
   ]
  },
  {
   "cell_type": "code",
   "execution_count": null,
   "id": "saved-product",
   "metadata": {},
   "outputs": [],
   "source": []
  }
 ],
 "metadata": {
  "kernelspec": {
   "display_name": "C++11",
   "language": "C++11",
   "name": "xcpp11"
  },
  "language_info": {
   "codemirror_mode": "text/x-c++src",
   "file_extension": ".cpp",
   "mimetype": "text/x-c++src",
   "name": "c++",
   "version": "11"
  }
 },
 "nbformat": 4,
 "nbformat_minor": 5
}
