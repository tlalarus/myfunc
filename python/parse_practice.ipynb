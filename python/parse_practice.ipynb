{
 "cells": [
  {
   "cell_type": "code",
   "execution_count": 1,
   "metadata": {},
   "outputs": [],
   "source": [
    "import numpy as np\n",
    "import yaml\n",
    "import cv2"
   ]
  },
  {
   "cell_type": "code",
   "execution_count": 2,
   "metadata": {},
   "outputs": [],
   "source": [
    "def check_string(path_, target_):\n",
    "    with open(path_) as temp_f:\n",
    "        log_file = temp_f.readlines()\n",
    "    for line in log_file:\n",
    "        if target_ in line:\n",
    "            return line\n",
    "    return None"
   ]
  },
  {
   "cell_type": "code",
   "execution_count": 3,
   "metadata": {},
   "outputs": [],
   "source": [
    "log_path = \"/home/minkyung/spin-storage/log/SensorLog_20220525_0.log\"\n",
    "\n",
    "srcfile_line = check_string(log_path, 'dbgpath')\n",
    "srcfile_path = srcfile_line.split('=')[-1][:-2]"
   ]
  },
  {
   "cell_type": "code",
   "execution_count": 4,
   "metadata": {},
   "outputs": [],
   "source": [
    "spinfile_line = check_string(log_path, 'ActiveDebug')\n",
    "spinfile_path = spinfile_line.split(' ')[-1][:-2]"
   ]
  },
  {
   "cell_type": "code",
   "execution_count": 5,
   "metadata": {},
   "outputs": [
    {
     "data": {
      "text/plain": [
       "'/home/minkyung/spin-storage/learning/zig/axis70df10'"
      ]
     },
     "execution_count": 5,
     "metadata": {},
     "output_type": "execute_result"
    }
   ],
   "source": [
    "srcfile_path"
   ]
  },
  {
   "cell_type": "code",
   "execution_count": 6,
   "metadata": {},
   "outputs": [
    {
     "data": {
      "text/plain": [
       "'/home/minkyung/spin-storage/shot/0525_141115'"
      ]
     },
     "execution_count": 6,
     "metadata": {},
     "output_type": "execute_result"
    }
   ],
   "source": [
    "spinfile_path"
   ]
  },
  {
   "cell_type": "code",
   "execution_count": 7,
   "metadata": {},
   "outputs": [],
   "source": [
    "from parse import *\n",
    "def check_pattern(path_, pattern_):\n",
    "    result = []\n",
    "    with open(path_) as temp_f:\n",
    "        log_file = temp_f.readlines()\n",
    "    for line in log_file:\n",
    "        result_ = parse(pattern_, line)\n",
    "        print(result_[0], result_[1])\n",
    "    return result"
   ]
  },
  {
   "cell_type": "code",
   "execution_count": 44,
   "metadata": {},
   "outputs": [],
   "source": [
    "from parse import compile\n",
    "pars = compile('{} \t uvset[{}]: {}')\n",
    "pars_ball = compile('{} [INFO] Match [{}]')\n",
    "uvset_arr0 = np.empty((1,2), dtype=np.float64)\n",
    "uvset_arr1 = np.empty((1,2), dtype=np.float64)\n",
    "uvset_arr2 = np.empty((1,2), dtype=np.float64)\n",
    "\n",
    "ball_pair_arr = np.empty()\n",
    "\n",
    "with open(log_path) as tmp_f:\n",
    "    log_file = tmp_f.readlines()\n",
    "\n",
    "\n",
    "for line in log_file:\n",
    "    sub_ = pars.parse(line)\n",
    "    if sub_ is not None:\n",
    "        uvset_idx = int(sub_[1])\n",
    "        new_subs_ = sub_[2].replace(')', '').replace('(', '').split(' ')\n",
    "        if uvset_idx == 0:\n",
    "            uvset_arr0 = np.append(uvset_arr0, np.array([[new_subs_[0], new_subs_[1]]]), axis=0)\n",
    "        elif uvset_idx == 1:\n",
    "            uvset_arr1 = np.append(uvset_arr1, np.array([[new_subs_[0], new_subs_[1]]]), axis=0)\n",
    "        elif uvset_idx == 2:\n",
    "            uvset_arr2 = np.append(uvset_arr2, np.array([[new_subs_[0], new_subs_[1]]]), axis=0)\n",
    "    else:\n",
    "        sub_ = pars_ball.parse(line)\n",
    "        if sub_ is not None:\n",
    "\n",
    "\n",
    "        \n"
   ]
  },
  {
   "cell_type": "code",
   "execution_count": 45,
   "metadata": {},
   "outputs": [],
   "source": [
    "uvset_arr0 = np.delete(uvset_arr0, [0], axis=0)\n",
    "uvset_arr1 = np.delete(uvset_arr1, [0], axis=0)\n",
    "uvset_arr2 = np.delete(uvset_arr2, [0], axis=0)"
   ]
  },
  {
   "cell_type": "code",
   "execution_count": 46,
   "metadata": {},
   "outputs": [
    {
     "data": {
      "text/plain": [
       "(62, 2)"
      ]
     },
     "execution_count": 46,
     "metadata": {},
     "output_type": "execute_result"
    }
   ],
   "source": [
    "uvset_arr0.shape"
   ]
  },
  {
   "cell_type": "code",
   "execution_count": 47,
   "metadata": {},
   "outputs": [
    {
     "data": {
      "text/plain": [
       "array([['65', '183'],\n",
       "       ['36', '180'],\n",
       "       ['27', '193']], dtype='<U32')"
      ]
     },
     "execution_count": 47,
     "metadata": {},
     "output_type": "execute_result"
    }
   ],
   "source": [
    "np.vstack([uvset_arr0[0], uvset_arr1[0], uvset_arr2[0]])"
   ]
  },
  {
   "cell_type": "code",
   "execution_count": 48,
   "metadata": {},
   "outputs": [],
   "source": [
    "uvset_arr = np.empty((1,3,2), dtype=np.float64)\n",
    "for i in np.arange(uvset_arr0.shape[0]):\n",
    "    uvset_arr = np.append(uvset_arr, np.vstack([uvset_arr0[i], uvset_arr1[i], uvset_arr2[i]]).reshape(1,3,2), axis=0)\n"
   ]
  },
  {
   "cell_type": "code",
   "execution_count": 49,
   "metadata": {},
   "outputs": [
    {
     "data": {
      "text/plain": [
       "(63, 3, 2)"
      ]
     },
     "execution_count": 49,
     "metadata": {},
     "output_type": "execute_result"
    }
   ],
   "source": [
    "uvset_arr.shape"
   ]
  },
  {
   "cell_type": "code",
   "execution_count": 51,
   "metadata": {},
   "outputs": [],
   "source": [
    "uvset_arr = np.delete(uvset_arr, [0], axis=0)"
   ]
  },
  {
   "cell_type": "code",
   "execution_count": null,
   "metadata": {},
   "outputs": [],
   "source": [
    "# 몇번째 공인지 알아야 함.\n",
    "# 공의 위치 "
   ]
  },
  {
   "cell_type": "code",
   "execution_count": null,
   "metadata": {},
   "outputs": [],
   "source": [
    "\n",
    "# 원본 uvset pair 가져오기 from log\n",
    "\n",
    "# modify range 설정 \n",
    "\n",
    "# modified point 생성\n",
    "\n",
    "# 스핀계산"
   ]
  }
 ],
 "metadata": {
  "interpreter": {
   "hash": "6a8860dc9a40242159911e9e9cb9b54dfc1097146fd26fa396e77b126da66f0d"
  },
  "kernelspec": {
   "display_name": "Python 3.8.12 ('base')",
   "language": "python",
   "name": "python3"
  },
  "language_info": {
   "codemirror_mode": {
    "name": "ipython",
    "version": 3
   },
   "file_extension": ".py",
   "mimetype": "text/x-python",
   "name": "python",
   "nbconvert_exporter": "python",
   "pygments_lexer": "ipython3",
   "version": "3.8.12"
  },
  "orig_nbformat": 4
 },
 "nbformat": 4,
 "nbformat_minor": 2
}
