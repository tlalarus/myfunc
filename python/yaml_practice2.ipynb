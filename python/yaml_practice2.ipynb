{
 "cells": [
  {
   "cell_type": "code",
   "execution_count": 2,
   "metadata": {},
   "outputs": [],
   "source": [
    "from glob import glob\n",
    "import yaml"
   ]
  },
  {
   "cell_type": "markdown",
   "metadata": {},
   "source": [
    "### yaml에서 여러 개의 경로 불러오기"
   ]
  },
  {
   "cell_type": "code",
   "execution_count": 5,
   "metadata": {},
   "outputs": [],
   "source": [
    "with open('./test.yaml') as f:\n",
    "    path_yaml = yaml.load(f, Loader=yaml.FullLoader)\n",
    "\n",
    "path_list = path_yaml['src_path']"
   ]
  },
  {
   "cell_type": "code",
   "execution_count": 6,
   "metadata": {},
   "outputs": [
    {
     "data": {
      "text/plain": [
       "['/home/minkyung/spin-storage/learning/zig/axis90df10_rev/*',\n",
       " '/home/minkyung/spin-storage/learning/zig/axis85df10_rev/*']"
      ]
     },
     "execution_count": 6,
     "metadata": {},
     "output_type": "execute_result"
    }
   ],
   "source": [
    "path_list"
   ]
  },
  {
   "cell_type": "code",
   "execution_count": 8,
   "metadata": {},
   "outputs": [],
   "source": [
    "file_list = []\n",
    "for path in path_list:\n",
    "    file_list.append(glob(path))"
   ]
  },
  {
   "cell_type": "code",
   "execution_count": 9,
   "metadata": {},
   "outputs": [
    {
     "data": {
      "text/plain": [
       "[['/home/minkyung/spin-storage/learning/zig/axis90df10_rev/29.png',\n",
       "  '/home/minkyung/spin-storage/learning/zig/axis90df10_rev/25.png',\n",
       "  '/home/minkyung/spin-storage/learning/zig/axis90df10_rev/02.png',\n",
       "  '/home/minkyung/spin-storage/learning/zig/axis90df10_rev/18.png',\n",
       "  '/home/minkyung/spin-storage/learning/zig/axis90df10_rev/00.png',\n",
       "  '/home/minkyung/spin-storage/learning/zig/axis90df10_rev/30.png',\n",
       "  '/home/minkyung/spin-storage/learning/zig/axis90df10_rev/16.png',\n",
       "  '/home/minkyung/spin-storage/learning/zig/axis90df10_rev/27.png',\n",
       "  '/home/minkyung/spin-storage/learning/zig/axis90df10_rev/14.png',\n",
       "  '/home/minkyung/spin-storage/learning/zig/axis90df10_rev/ground_truth.yaml',\n",
       "  '/home/minkyung/spin-storage/learning/zig/axis90df10_rev/31.png',\n",
       "  '/home/minkyung/spin-storage/learning/zig/axis90df10_rev/05.png',\n",
       "  '/home/minkyung/spin-storage/learning/zig/axis90df10_rev/24.png',\n",
       "  '/home/minkyung/spin-storage/learning/zig/axis90df10_rev/09.png',\n",
       "  '/home/minkyung/spin-storage/learning/zig/axis90df10_rev/22.png',\n",
       "  '/home/minkyung/spin-storage/learning/zig/axis90df10_rev/SensorLog_20220314_0.log',\n",
       "  '/home/minkyung/spin-storage/learning/zig/axis90df10_rev/12.png',\n",
       "  '/home/minkyung/spin-storage/learning/zig/axis90df10_rev/33.png',\n",
       "  '/home/minkyung/spin-storage/learning/zig/axis90df10_rev/04.png',\n",
       "  '/home/minkyung/spin-storage/learning/zig/axis90df10_rev/03.png',\n",
       "  '/home/minkyung/spin-storage/learning/zig/axis90df10_rev/01.png',\n",
       "  '/home/minkyung/spin-storage/learning/zig/axis90df10_rev/08.png',\n",
       "  '/home/minkyung/spin-storage/learning/zig/axis90df10_rev/23.png',\n",
       "  '/home/minkyung/spin-storage/learning/zig/axis90df10_rev/32.png',\n",
       "  '/home/minkyung/spin-storage/learning/zig/axis90df10_rev/17.png',\n",
       "  '/home/minkyung/spin-storage/learning/zig/axis90df10_rev/10.png',\n",
       "  '/home/minkyung/spin-storage/learning/zig/axis90df10_rev/07.png',\n",
       "  '/home/minkyung/spin-storage/learning/zig/axis90df10_rev/34.png',\n",
       "  '/home/minkyung/spin-storage/learning/zig/axis90df10_rev/06.png',\n",
       "  '/home/minkyung/spin-storage/learning/zig/axis90df10_rev/28.png',\n",
       "  '/home/minkyung/spin-storage/learning/zig/axis90df10_rev/20.png',\n",
       "  '/home/minkyung/spin-storage/learning/zig/axis90df10_rev/26.png',\n",
       "  '/home/minkyung/spin-storage/learning/zig/axis90df10_rev/35.png',\n",
       "  '/home/minkyung/spin-storage/learning/zig/axis90df10_rev/11.png',\n",
       "  '/home/minkyung/spin-storage/learning/zig/axis90df10_rev/15.png',\n",
       "  '/home/minkyung/spin-storage/learning/zig/axis90df10_rev/19.png',\n",
       "  '/home/minkyung/spin-storage/learning/zig/axis90df10_rev/21.png',\n",
       "  '/home/minkyung/spin-storage/learning/zig/axis90df10_rev/13.png'],\n",
       " ['/home/minkyung/spin-storage/learning/zig/axis85df10_rev/29.png',\n",
       "  '/home/minkyung/spin-storage/learning/zig/axis85df10_rev/25.png',\n",
       "  '/home/minkyung/spin-storage/learning/zig/axis85df10_rev/02.png',\n",
       "  '/home/minkyung/spin-storage/learning/zig/axis85df10_rev/18.png',\n",
       "  '/home/minkyung/spin-storage/learning/zig/axis85df10_rev/00.png',\n",
       "  '/home/minkyung/spin-storage/learning/zig/axis85df10_rev/30.png',\n",
       "  '/home/minkyung/spin-storage/learning/zig/axis85df10_rev/16.png',\n",
       "  '/home/minkyung/spin-storage/learning/zig/axis85df10_rev/27.png',\n",
       "  '/home/minkyung/spin-storage/learning/zig/axis85df10_rev/14.png',\n",
       "  '/home/minkyung/spin-storage/learning/zig/axis85df10_rev/ground_truth.yaml',\n",
       "  '/home/minkyung/spin-storage/learning/zig/axis85df10_rev/31.png',\n",
       "  '/home/minkyung/spin-storage/learning/zig/axis85df10_rev/05.png',\n",
       "  '/home/minkyung/spin-storage/learning/zig/axis85df10_rev/24.png',\n",
       "  '/home/minkyung/spin-storage/learning/zig/axis85df10_rev/09.png',\n",
       "  '/home/minkyung/spin-storage/learning/zig/axis85df10_rev/detection.yaml',\n",
       "  '/home/minkyung/spin-storage/learning/zig/axis85df10_rev/22.png',\n",
       "  '/home/minkyung/spin-storage/learning/zig/axis85df10_rev/SensorLog_20220314_0.log',\n",
       "  '/home/minkyung/spin-storage/learning/zig/axis85df10_rev/12.png',\n",
       "  '/home/minkyung/spin-storage/learning/zig/axis85df10_rev/33.png',\n",
       "  '/home/minkyung/spin-storage/learning/zig/axis85df10_rev/04.png',\n",
       "  '/home/minkyung/spin-storage/learning/zig/axis85df10_rev/03.png',\n",
       "  '/home/minkyung/spin-storage/learning/zig/axis85df10_rev/36.png',\n",
       "  '/home/minkyung/spin-storage/learning/zig/axis85df10_rev/01.png',\n",
       "  '/home/minkyung/spin-storage/learning/zig/axis85df10_rev/08.png',\n",
       "  '/home/minkyung/spin-storage/learning/zig/axis85df10_rev/23.png',\n",
       "  '/home/minkyung/spin-storage/learning/zig/axis85df10_rev/32.png',\n",
       "  '/home/minkyung/spin-storage/learning/zig/axis85df10_rev/17.png',\n",
       "  '/home/minkyung/spin-storage/learning/zig/axis85df10_rev/10.png',\n",
       "  '/home/minkyung/spin-storage/learning/zig/axis85df10_rev/07.png',\n",
       "  '/home/minkyung/spin-storage/learning/zig/axis85df10_rev/34.png',\n",
       "  '/home/minkyung/spin-storage/learning/zig/axis85df10_rev/06.png',\n",
       "  '/home/minkyung/spin-storage/learning/zig/axis85df10_rev/28.png',\n",
       "  '/home/minkyung/spin-storage/learning/zig/axis85df10_rev/20.png',\n",
       "  '/home/minkyung/spin-storage/learning/zig/axis85df10_rev/26.png',\n",
       "  '/home/minkyung/spin-storage/learning/zig/axis85df10_rev/35.png',\n",
       "  '/home/minkyung/spin-storage/learning/zig/axis85df10_rev/11.png',\n",
       "  '/home/minkyung/spin-storage/learning/zig/axis85df10_rev/15.png',\n",
       "  '/home/minkyung/spin-storage/learning/zig/axis85df10_rev/19.png',\n",
       "  '/home/minkyung/spin-storage/learning/zig/axis85df10_rev/21.png',\n",
       "  '/home/minkyung/spin-storage/learning/zig/axis85df10_rev/13.png']]"
      ]
     },
     "execution_count": 9,
     "metadata": {},
     "output_type": "execute_result"
    }
   ],
   "source": [
    "file_list"
   ]
  },
  {
   "cell_type": "code",
   "execution_count": null,
   "metadata": {},
   "outputs": [],
   "source": []
  }
 ],
 "metadata": {
  "interpreter": {
   "hash": "6a8860dc9a40242159911e9e9cb9b54dfc1097146fd26fa396e77b126da66f0d"
  },
  "kernelspec": {
   "display_name": "Python 3.8.12 ('base')",
   "language": "python",
   "name": "python3"
  },
  "language_info": {
   "codemirror_mode": {
    "name": "ipython",
    "version": 3
   },
   "file_extension": ".py",
   "mimetype": "text/x-python",
   "name": "python",
   "nbconvert_exporter": "python",
   "pygments_lexer": "ipython3",
   "version": "3.8.12"
  },
  "orig_nbformat": 4
 },
 "nbformat": 4,
 "nbformat_minor": 2
}
