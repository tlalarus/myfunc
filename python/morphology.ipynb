{
 "cells": [
  {
   "cell_type": "markdown",
   "metadata": {},
   "source": [
    "모폴로지 테스트"
   ]
  },
  {
   "cell_type": "raw",
   "metadata": {},
   "source": [
    "import numpy as np\n",
    "import cv2\n",
    "import glob\n",
    "import os\n",
    "import sys\n",
    "from matplotlib import pyplot as plt"
   ]
  },
  {
   "cell_type": "raw",
   "metadata": {},
   "source": [
    "path = \"/home/minkyung/source/measure-spin/imgsrc/ball/findcircle/shot18/\"\n",
    "seq = os.listdir(path)\n",
    "img_seq = [file for file in seq if file.endswith(\".png\")]\n",
    "\n",
    "test = 'Morph test'\n",
    "\n",
    "print(img_seq)\n",
    "for iname in img_seq:\n",
    "    img = cv2.imread(path+iname, cv2.IMREAD_GRAYSCALE)\n",
    "\n",
    "    cv2.namedWindow(test)\n",
    "    cv2.createTrackbar('canny_minval', test, 0, 255, nothing)\n",
    "    cv2.createTrackbar('canny_maxval', test, 0, 255, nothing)\n",
    "\n",
    "    cv2.createTrackbar('thresh_val', test, 0, 255, nothing)\n",
    "    cv2.createTrackbar('erode_ksize', test, 1, 9, nothing)\n",
    "    cv2.createTrackbar('dilate_ksize', test, 1, 9, nothing)\n",
    "    cv2.createTrackbar('ksize', test, 0, 9, nothing)\n",
    "    \n",
    "    cv2.createTrackbar('dilate_iter', test, 1, 5, nothing)\n",
    "\n",
    "    while True:\n",
    "        minval = cv2.getTrackbarPos('canny_minval', test)\n",
    "        maxval = cv2.getTrackbarPos('canny_maxval', test)\n",
    "\n",
    "        thresh_val = cv2.getTrackbarPos('thresh_val', test)\n",
    "        erode_ksize = cv2.getTrackbarPos('erode_ksize', test)\n",
    "        dilate_ksize = cv2.getTrackbarPos('dilate_ksize', test)\n",
    "        ksize = cv2.getTrackbarPos('ksize', test)\n",
    "        dilate_iter = cv2.getTrackbarPos('dilate_iter', test)\n",
    "\n",
    "        #\n",
    "        # Contour\n",
    "        (T, img_bin) = cv2.threshold(img, thresh_val, 255, cv2.THRESH_BINARY)\n",
    "        \n",
    "        kernel = np.ones((ksize, ksize), 'uint8')\n",
    "        img_erode = cv2.erode(img_bin, kernel, iterations=1)\n",
    "        img_dilate = cv2.dilate(img_erode, kernel, iterations=dilate_iter)\n",
    "\n",
    "        #\n",
    "        # Edges\n",
    "        if minval != 0 or maxval != 0:\n",
    "            edges = cv2.Canny(img, minval, maxval)\n",
    "\n",
    "        #\n",
    "        # Merge\n",
    "        if minval != 0 and maxval != 0 and thresh_val != 0:\n",
    "            result = np.bitwise_and(edges, img_bin)\n",
    "        elif minval != 0 and maxval != 0 and thresh_val == 0:\n",
    "            result = edges\n",
    "        elif minval == 0 and maxval == 0 and thresh_val != 0:\n",
    "            result = img_bin\n",
    "        else:\n",
    "            result = img\n",
    "        \n",
    "        #cv2.imshow('Edge test', edges)\n",
    "\n",
    "        scale_percent = 50\n",
    "        width = int(result.shape[1] * scale_percent /  100)\n",
    "        height = int(result.shape[0] * scale_percent / 100)\n",
    "        dsize = (width, height)\n",
    "        img_resize = cv2.resize(result, dsize)\n",
    "\n",
    "        cv2.imshow(test, img_resize)\n",
    "\n",
    "        end_key = cv2.waitKey(1)\n",
    "\n",
    "\n",
    "        if end_key == 27:\n",
    "            print('canny_minval=', minval)\n",
    "            print('canny_maxval=', maxval)\n",
    "            print('thresh_val=', thresh_val)\n",
    "            print('ksize=', ksize)\n",
    "            print('dilate_iter=', dilate_iter)\n",
    "            print()\n",
    "            break;\n",
    "        elif end_key == 99:\n",
    "            print('count nonzero=', n_nonzero)\n",
    "    cv2.destroyAllWindows()\n",
    "\n",
    "    #plt.axis('off')\n",
    "    #plt.imshow(img, cmap='gray'), plt.title(iname)\n",
    "\n",
    "    #plt.show()"
   ]
  },
  {
   "cell_type": "raw",
   "metadata": {},
   "source": []
  }
 ],
 "metadata": {
  "kernelspec": {
   "display_name": "Python 3",
   "language": "python",
   "name": "python3"
  },
  "language_info": {
   "codemirror_mode": {
    "name": "ipython",
    "version": 3
   },
   "file_extension": ".py",
   "mimetype": "text/x-python",
   "name": "python",
   "nbconvert_exporter": "python",
   "pygments_lexer": "ipython3",
   "version": "3.8.5"
  }
 },
 "nbformat": 4,
 "nbformat_minor": 2
}
