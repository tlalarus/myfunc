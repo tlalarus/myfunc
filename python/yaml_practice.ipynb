{
 "cells": [
  {
   "cell_type": "markdown",
   "metadata": {},
   "source": [
    "## yaml io practice\n",
    "라벨링 결과를 yaml로 저장"
   ]
  },
  {
   "cell_type": "code",
   "execution_count": null,
   "metadata": {},
   "outputs": [],
   "source": [
    "# image sequence 읽기\n",
    "import glob\n",
    "import os\n",
    "\n",
    "path = '/home/minkyung/spin-storage/shot/0426_142527/spin/*'\n",
    "file_list = glob.glob(path)\n",
    "pnglist = [file for file in file_list if file.endswith('.png')]\n",
    "\n"
   ]
  },
  {
   "cell_type": "code",
   "execution_count": null,
   "metadata": {},
   "outputs": [],
   "source": [
    "import numpy as np\n",
    "import cv2\n",
    "path = '/home/minkyung/spin-storage/shot/0426_142527/spin/dt:'\n",
    "\n",
    "cnt = 0\n",
    "nimg = len(pnglist)\n",
    "imlist = []\n",
    "for i in np.arange(nimg):\n",
    "    fullpath = path+str(i)+'.png'\n",
    "    imlist.append({'fname': os.path.basename(fullpath), 'img': cv2.cvtColor(cv2.imread(fullpath), cv2.COLOR_BGR2RGB)})\n",
    "    \n",
    "    \n"
   ]
  },
  {
   "cell_type": "code",
   "execution_count": null,
   "metadata": {},
   "outputs": [],
   "source": [
    "# 이미지 조합 생성(이중 loop)\n",
    "intv_max = 3\n",
    "\n",
    "indice = np.tile(np.arange(nimg), (intv_max,nimg))"
   ]
  },
  {
   "cell_type": "code",
   "execution_count": null,
   "metadata": {},
   "outputs": [],
   "source": [
    "indice1 = []\n",
    "indice2 = []\n",
    "for intv in np.arange(1,intv_max+1):\n",
    "    arr1 = np.array([idx for idx in np.arange(nimg) if idx+intv<nimg])\n",
    "    arr2 = np.array([idx+intv for idx in np.arange(nimg) if idx+intv<nimg])\n",
    "    indice1.append(arr1)\n",
    "    indice2.append(arr2)\n",
    "    "
   ]
  },
  {
   "cell_type": "code",
   "execution_count": null,
   "metadata": {},
   "outputs": [],
   "source": [
    "print(len(indice1[0]), len(indice2[0]))\n",
    "print(len(indice1[1]), len(indice2[1]))\n",
    "print(len(indice1[2]), len(indice2[2]))"
   ]
  },
  {
   "cell_type": "code",
   "execution_count": null,
   "metadata": {},
   "outputs": [],
   "source": [
    "import matplotlib.pyplot as plt\n",
    "import yaml\n",
    "\n",
    "yaml_list = []\n",
    "\n",
    "for intv in np.arange(intv_max):\n",
    "    for i, (i1_, i2_) in enumerate(zip(indice1[intv], indice2[intv])):\n",
    "        print('i1', i1_, 'i2', i2_)\n",
    "        fname1 = imlist[i1_]['fname']\n",
    "        img1 = imlist[i1_]['img']\n",
    "\n",
    "        fname2 = imlist[i2_]['fname']\n",
    "        img2 = imlist[i2_]['img']\n",
    "\n",
    "        plt.subplot(121), plt.axis('off'), plt.imshow(img1)\n",
    "        plt.subplot(122), plt.axis('off'), plt.imshow(img2)\n",
    "        plt.show()\n",
    "\n",
    "        print('input array of mark2')\n",
    "        mark2_str = input()\n",
    "        \n",
    "        ball1 = int(i1_)\n",
    "        ball2 = int(i2_)\n",
    "        \n",
    "        mark2_list = list(map(int, mark2_str.split(' ')))\n",
    "\n",
    "        nmark1 = len(mark2_list)\n",
    "        mark1_list = np.arange(nmark1).tolist()\n",
    "\n",
    "        print('--- Result')\n",
    "        print('ball1:', ball1)\n",
    "        print('ball2:', ball2)\n",
    "        print('mark1:', mark1_list)\n",
    "        print('mark2:', mark2_list)\n",
    "\n",
    "        dic_tmp = {'ball1': ball1, 'marker1':mark1_list, 'ball2':ball2, 'marker2':mark2_list}\n",
    "        yaml_list.append(dic_tmp)        \n",
    "        "
   ]
  },
  {
   "cell_type": "code",
   "execution_count": null,
   "metadata": {},
   "outputs": [],
   "source": [
    "with open('test3.yaml', 'w') as f:\n",
    "    yaml.dump(yaml_list, f)"
   ]
  },
  {
   "cell_type": "code",
   "execution_count": null,
   "metadata": {},
   "outputs": [],
   "source": [
    "new_list = []\n",
    "for dic in yaml_list:\n",
    "    \n",
    "    newval1 = int(dic['ball1'])\n",
    "    newval2 = int(dic['ball2'])\n",
    "    new_list.append({'ball1':newval1, 'ball2':newval2, 'marker1':dic['marker1'], 'marker2':dic['marker2']})"
   ]
  },
  {
   "cell_type": "code",
   "execution_count": null,
   "metadata": {},
   "outputs": [],
   "source": [
    "with open('./new2.yaml', 'w') as f:\n",
    "    yaml.dump(new_list, f)"
   ]
  }
 ],
 "metadata": {
  "interpreter": {
   "hash": "6a8860dc9a40242159911e9e9cb9b54dfc1097146fd26fa396e77b126da66f0d"
  },
  "kernelspec": {
   "display_name": "Python 3.8.12 ('base')",
   "language": "python",
   "name": "python3"
  },
  "language_info": {
   "codemirror_mode": {
    "name": "ipython",
    "version": 3
   },
   "file_extension": ".py",
   "mimetype": "text/x-python",
   "name": "python",
   "nbconvert_exporter": "python",
   "pygments_lexer": "ipython3",
   "version": "3.8.12"
  },
  "orig_nbformat": 4
 },
 "nbformat": 4,
 "nbformat_minor": 2
}
