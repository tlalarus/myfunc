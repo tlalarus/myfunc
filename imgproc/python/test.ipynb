{
 "cells": [
  {
   "cell_type": "markdown",
   "metadata": {},
   "source": [
    "# 오브젝트 검출"
   ]
  },
  {
   "cell_type": "code",
   "execution_count": 2,
   "metadata": {},
   "outputs": [],
   "source": [
    "import numpy as np\n",
    "import cv2\n",
    "import glob\n",
    "import os\n",
    "import sys\n",
    "from matplotlib import pyplot as plt"
   ]
  },
  {
   "cell_type": "code",
   "execution_count": 4,
   "metadata": {},
   "outputs": [],
   "source": [
    "def nothing(x):\n",
    "    pass"
   ]
  },
  {
   "cell_type": "markdown",
   "metadata": {},
   "source": [
    "밝기대비를 늘려주는 이미지 전처리 함수를 정의한다.\n"
   ]
  },
  {
   "cell_type": "code",
   "execution_count": 5,
   "metadata": {},
   "outputs": [],
   "source": [
    "def contrast_stretching(src):\n",
    "    hist, bins = np.histogram(img.flatten(), 256, [0,256])\n",
    "\n",
    "    cdf = hist.cumsum()\n",
    "    cdf_normalized = cdf * hist.max() / cdf.max()\n",
    "\n",
    "    img_cs = np.zeros((img.shape[0], img.shape[1]), dtype='uint8')\n",
    "\n",
    "    pxmin = np.min(img)\n",
    "    pxmax = np.max(img)\n",
    "\n",
    "    for i in range(img.shape[0]):\n",
    "        for j  in range(img.shape[1]):\n",
    "            img_cs[i,j] = 255 * (img[i,j]-pxmin) / (pxmax-pxmin)\n",
    "\n",
    "    # result histogram\n",
    "    hist_cs, bin_cs = np.histogram(img_cs.flatten(), 256, [0,256])\n",
    "\n",
    "    cdf_cs = hist_cs.cumsum()\n",
    "    cdf_cs_normalized = cdf_cs * hist_cs.max() / cdf_cs.max()\n",
    "\n",
    "    return img_cs\n",
    "\n"
   ]
  },
  {
   "cell_type": "markdown",
   "metadata": {},
   "source": [
    "라벨링(contour) 이미지와 canny edge이미지를 AND연산한다."
   ]
  },
  {
   "cell_type": "code",
   "execution_count": 11,
   "metadata": {},
   "outputs": [
    {
     "name": "stdout",
     "output_type": "stream",
     "text": [
      "['6483.png', '6476.png', '6479.png', '6475.png', '6480.png', '6482.png', '6477.png', '6474.png', '6481.png', '6478.png']\n",
      "minval= 30\n",
      "maxval= 40\n",
      "minval= 30\n",
      "maxval= 40\n",
      "minval= 30\n",
      "maxval= 40\n",
      "minval= 30\n",
      "maxval= 40\n",
      "minval= 30\n",
      "maxval= 40\n",
      "minval= 30\n",
      "maxval= 40\n",
      "minval= 30\n",
      "maxval= 40\n",
      "minval= 30\n",
      "maxval= 40\n",
      "minval= 0\n",
      "maxval= 0\n",
      "minval= 0\n",
      "maxval= 0\n"
     ]
    }
   ],
   "source": [
    "path = \"/home/minkyung/source/images/shot/01/\"\n",
    "img_seq = os.listdir(path)\n",
    "\n",
    "test = 'Contour test'\n",
    "\n",
    "print(img_seq)\n",
    "for iname in img_seq:\n",
    "\n",
    "    img = cv2.imread(path+iname, cv2.IMREAD_GRAYSCALE)\n",
    "    img_cs = contrast_stretching(img)\n",
    "\n",
    "    cv2.namedWindow(test)\n",
    "    cv2.createTrackbar('canny_minval', test, 0, 255, nothing)\n",
    "    cv2.createTrackbar('canny_maxval', test, 0, 255, nothing)\n",
    "\n",
    "    cv2.createTrackbar('thresh_val', test, 0, 255, nothing)\n",
    "    #cv2.createTrackbar('erode_ksize', test, 1, 9, nothing)\n",
    "    #cv2.createTrackbar('dilate_ksize', test, 1, 9, nothing)\n",
    "    cv2.createTrackbar('ksize', test, 0, 9, nothing)\n",
    "    cv2.createTrackbar('dilate_iter', test, 1, 5, nothing)\n",
    "\n",
    "    while True:\n",
    "        minval = cv2.getTrackbarPos('canny_minval', test)\n",
    "        maxval = cv2.getTrackbarPos('canny_maxval', test)\n",
    "\n",
    "        thresh_val = cv2.getTrackbarPos('thresh_val', test)\n",
    "        #erode_ksize = cv2.getTrackbarPos('erode_ksize', test)\n",
    "        #dilate_ksize = cv2.getTrackbarPos('dilate_ksize', test)\n",
    "        ksize = cv2.getTrackbarPos('ksize', test)\n",
    "        dilate_iter = cv2.getTrackbarPos('dilate_iter', test)\n",
    "\n",
    "        #\n",
    "        # Contour\n",
    "        (T, img_bin) = cv2.threshold(img_cs, thresh_val, 255, cv2.THRESH_BINARY)\n",
    "        \n",
    "        kernel = np.ones((ksize, ksize), 'uint8')\n",
    "        img_erode = cv2.erode(img_bin, kernel, iterations=1)\n",
    "        img_dilate = cv2.dilate(img_erode, kernel, iterations=dilate_iter)\n",
    "\n",
    "        #\n",
    "        # Edges\n",
    "        edges = cv2.Canny(img_cs, minval, maxval)\n",
    "\n",
    "        #\n",
    "        # Merge\n",
    "        result = np.bitwise_and(edges, img_dilate)\n",
    "\n",
    "        #cv2.imshow('Edge test', edges)\n",
    "        cv2.imshow(test, result)\n",
    "\n",
    "        end_key = cv2.waitKey(1)\n",
    "\n",
    "\n",
    "        if end_key == 27:\n",
    "            print('canny_minval=', minval)\n",
    "            print('canny_maxval=', maxval)\n",
    "            print('thresh_val=', thresh_val)\n",
    "            print('ksize=', ksize)\n",
    "            print('dilate_iter=', dilate_iter)\n",
    "            print()\n",
    "            break;\n",
    "\n",
    "    cv2.destroyAllWindows()\n",
    "\n",
    "    #plt.axis('off')\n",
    "    #plt.imshow(img, cmap='gray'), plt.title(iname)\n",
    "\n",
    "    #plt.show()"
   ]
  },
  {
   "cell_type": "code",
   "execution_count": null,
   "metadata": {},
   "outputs": [],
   "source": []
  }
 ],
 "metadata": {
  "kernelspec": {
   "display_name": "Python 3.7.5 64-bit ('env_spin': conda)",
   "metadata": {
    "interpreter": {
     "hash": "3294d4df33bc4cf8b736e75aa67dfedc4d299480a7fdd12314eb41c1d903afe0"
    }
   },
   "name": "python3"
  },
  "language_info": {
   "codemirror_mode": {
    "name": "ipython",
    "version": 3
   },
   "file_extension": ".py",
   "mimetype": "text/x-python",
   "name": "python",
   "nbconvert_exporter": "python",
   "pygments_lexer": "ipython3",
   "version": "3.7.5"
  },
  "orig_nbformat": 2
 },
 "nbformat": 4,
 "nbformat_minor": 2
}